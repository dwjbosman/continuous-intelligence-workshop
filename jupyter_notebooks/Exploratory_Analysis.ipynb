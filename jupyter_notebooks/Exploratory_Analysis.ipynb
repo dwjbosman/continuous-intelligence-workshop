{
 "cells": [
  {
   "cell_type": "markdown",
   "metadata": {},
   "source": [
    "## Exploratory Analysis using Jupyter Notebook\n",
    "For further reading, we recommend: \n",
    "- [the pandas documentation](http://pandas.pydata.org/pandas-docs/stable/getting_started/10min.html#getting)  for information about using DataFrames\n",
    "- [this blog post](https://towardsdatascience.com/introduction-to-data-visualization-in-python-89a54c97fbed) for a jumpstart into visualizations\n",
    "- [the matplotlib documentation](https://matplotlib.org/users/pyplot_tutorial.html) for more info about visualizations"
   ]
  },
  {
   "cell_type": "code",
   "execution_count": 1,
   "metadata": {},
   "outputs": [],
   "source": [
    "import pandas as pd"
   ]
  },
  {
   "cell_type": "markdown",
   "metadata": {},
   "source": [
    "#### Loading data from our GPC bucket"
   ]
  },
  {
   "cell_type": "code",
   "execution_count": 2,
   "metadata": {},
   "outputs": [],
   "source": [
    "import s3fs\n",
    "s3 = s3fs.S3FileSystem(anon=True)\n",
    "s3.ls('twde-datalab/raw')\n",
    "\n",
    "s3.get('twde-datalab/raw/quito_stores_sample2016-2017.csv', \n",
    "       '../data/quito_stores_sample2016-2017.csv')"
   ]
  },
  {
   "cell_type": "code",
   "execution_count": 41,
   "metadata": {},
   "outputs": [],
   "source": [
    "s3.get('twde-datalab/raw/items.csv', \n",
    "       '../data/items.csv')"
   ]
  },
  {
   "cell_type": "code",
   "execution_count": 42,
   "metadata": {},
   "outputs": [],
   "source": [
    "items = pd.read_csv('../data/items.csv')"
   ]
  },
  {
   "cell_type": "code",
   "execution_count": 43,
   "metadata": {},
   "outputs": [
    {
     "data": {
      "text/plain": [
       "<bound method NDFrame.sample of       item_nbr            family  class  perishable\n",
       "0        96995         GROCERY I   1093           0\n",
       "1        99197         GROCERY I   1067           0\n",
       "2       103501          CLEANING   3008           0\n",
       "3       103520         GROCERY I   1028           0\n",
       "4       103665      BREAD/BAKERY   2712           1\n",
       "5       105574         GROCERY I   1045           0\n",
       "6       105575         GROCERY I   1045           0\n",
       "7       105576         GROCERY I   1045           0\n",
       "8       105577         GROCERY I   1045           0\n",
       "9       105693         GROCERY I   1034           0\n",
       "10      105737         GROCERY I   1044           0\n",
       "11      105857         GROCERY I   1092           0\n",
       "12      106716         GROCERY I   1032           0\n",
       "13      108079         GROCERY I   1030           0\n",
       "14      108634         GROCERY I   1075           0\n",
       "15      108696              DELI   2636           1\n",
       "16      108698              DELI   2644           1\n",
       "17      108701              DELI   2644           1\n",
       "18      108786          CLEANING   3044           0\n",
       "19      108797         GROCERY I   1004           0\n",
       "20      108831           POULTRY   2416           1\n",
       "21      108833              EGGS   2502           1\n",
       "22      108862         GROCERY I   1062           0\n",
       "23      108952          CLEANING   3024           0\n",
       "24      111223         GROCERY I   1034           0\n",
       "25      111397         GROCERY I   1072           0\n",
       "26      112830         GROCERY I   1044           0\n",
       "27      114778         GROCERY I   1016           0\n",
       "28      114790         GROCERY I   1004           0\n",
       "29      114799     PERSONAL CARE   4126           0\n",
       "...        ...               ...    ...         ...\n",
       "4070   2127992         GROCERY I   1028           0\n",
       "4071   2128628         BEVERAGES   1122           0\n",
       "4072   2128799         BEVERAGES   1148           0\n",
       "4073   2129334         GROCERY I   1086           0\n",
       "4074   2129350         GROCERY I   1086           0\n",
       "4075   2129387         GROCERY I   1068           0\n",
       "4076   2129515         GROCERY I   1042           0\n",
       "4077   2129616         BEVERAGES   1124           0\n",
       "4078   2129678         GROCERY I   1030           0\n",
       "4079   2129786         GROCERY I   1016           0\n",
       "4080   2129790         GROCERY I   1094           0\n",
       "4081   2129892         GROCERY I   1092           0\n",
       "4082   2129994         GROCERY I   1092           0\n",
       "4083   2130131         GROCERY I   1092           0\n",
       "4084   2130219         GROCERY I   1094           0\n",
       "4085   2130265         GROCERY I   1094           0\n",
       "4086   2130352         GROCERY I   1094           0\n",
       "4087   2130474         GROCERY I   1064           0\n",
       "4088   2130521         GROCERY I   1040           0\n",
       "4089   2130526         GROCERY I   1030           0\n",
       "4090   2130553  LIQUOR,WINE,BEER   1318           0\n",
       "4091   2131010  LIQUOR,WINE,BEER   1328           0\n",
       "4092   2131572         GROCERY I   1002           0\n",
       "4093   2131699         GROCERY I   1002           0\n",
       "4094   2132163         GROCERY I   1040           0\n",
       "4095   2132318         GROCERY I   1002           0\n",
       "4096   2132945         GROCERY I   1026           0\n",
       "4097   2132957         GROCERY I   1068           0\n",
       "4098   2134058         BEVERAGES   1124           0\n",
       "4099   2134244  LIQUOR,WINE,BEER   1364           0\n",
       "\n",
       "[4100 rows x 4 columns]>"
      ]
     },
     "execution_count": 43,
     "metadata": {},
     "output_type": "execute_result"
    }
   ],
   "source": [
    "items.sample"
   ]
  },
  {
   "cell_type": "code",
   "execution_count": 3,
   "metadata": {},
   "outputs": [],
   "source": [
    "train = pd.read_csv('../data/quito_stores_sample2016-2017.csv')"
   ]
  },
  {
   "cell_type": "code",
   "execution_count": 4,
   "metadata": {},
   "outputs": [
    {
     "data": {
      "text/html": [
       "<div>\n",
       "<style scoped>\n",
       "    .dataframe tbody tr th:only-of-type {\n",
       "        vertical-align: middle;\n",
       "    }\n",
       "\n",
       "    .dataframe tbody tr th {\n",
       "        vertical-align: top;\n",
       "    }\n",
       "\n",
       "    .dataframe thead th {\n",
       "        text-align: right;\n",
       "    }\n",
       "</style>\n",
       "<table border=\"1\" class=\"dataframe\">\n",
       "  <thead>\n",
       "    <tr style=\"text-align: right;\">\n",
       "      <th></th>\n",
       "      <th>id</th>\n",
       "      <th>date</th>\n",
       "      <th>store_nbr</th>\n",
       "      <th>item_nbr</th>\n",
       "      <th>unit_sales</th>\n",
       "      <th>onpromotion</th>\n",
       "      <th>city</th>\n",
       "      <th>state</th>\n",
       "      <th>cluster</th>\n",
       "    </tr>\n",
       "  </thead>\n",
       "  <tbody>\n",
       "    <tr>\n",
       "      <th>0</th>\n",
       "      <td>88211471</td>\n",
       "      <td>2016-08-16</td>\n",
       "      <td>44</td>\n",
       "      <td>103520</td>\n",
       "      <td>7.0</td>\n",
       "      <td>True</td>\n",
       "      <td>Quito</td>\n",
       "      <td>Pichincha</td>\n",
       "      <td>5</td>\n",
       "    </tr>\n",
       "    <tr>\n",
       "      <th>1</th>\n",
       "      <td>88211472</td>\n",
       "      <td>2016-08-16</td>\n",
       "      <td>44</td>\n",
       "      <td>103665</td>\n",
       "      <td>7.0</td>\n",
       "      <td>False</td>\n",
       "      <td>Quito</td>\n",
       "      <td>Pichincha</td>\n",
       "      <td>5</td>\n",
       "    </tr>\n",
       "    <tr>\n",
       "      <th>2</th>\n",
       "      <td>88211473</td>\n",
       "      <td>2016-08-16</td>\n",
       "      <td>44</td>\n",
       "      <td>105574</td>\n",
       "      <td>13.0</td>\n",
       "      <td>False</td>\n",
       "      <td>Quito</td>\n",
       "      <td>Pichincha</td>\n",
       "      <td>5</td>\n",
       "    </tr>\n",
       "    <tr>\n",
       "      <th>3</th>\n",
       "      <td>88211474</td>\n",
       "      <td>2016-08-16</td>\n",
       "      <td>44</td>\n",
       "      <td>105575</td>\n",
       "      <td>18.0</td>\n",
       "      <td>False</td>\n",
       "      <td>Quito</td>\n",
       "      <td>Pichincha</td>\n",
       "      <td>5</td>\n",
       "    </tr>\n",
       "    <tr>\n",
       "      <th>4</th>\n",
       "      <td>88211475</td>\n",
       "      <td>2016-08-16</td>\n",
       "      <td>44</td>\n",
       "      <td>105577</td>\n",
       "      <td>8.0</td>\n",
       "      <td>False</td>\n",
       "      <td>Quito</td>\n",
       "      <td>Pichincha</td>\n",
       "      <td>5</td>\n",
       "    </tr>\n",
       "  </tbody>\n",
       "</table>\n",
       "</div>"
      ],
      "text/plain": [
       "         id        date  store_nbr  item_nbr  unit_sales  onpromotion   city  \\\n",
       "0  88211471  2016-08-16         44    103520         7.0         True  Quito   \n",
       "1  88211472  2016-08-16         44    103665         7.0        False  Quito   \n",
       "2  88211473  2016-08-16         44    105574        13.0        False  Quito   \n",
       "3  88211474  2016-08-16         44    105575        18.0        False  Quito   \n",
       "4  88211475  2016-08-16         44    105577         8.0        False  Quito   \n",
       "\n",
       "       state  cluster  \n",
       "0  Pichincha        5  \n",
       "1  Pichincha        5  \n",
       "2  Pichincha        5  \n",
       "3  Pichincha        5  \n",
       "4  Pichincha        5  "
      ]
     },
     "execution_count": 4,
     "metadata": {},
     "output_type": "execute_result"
    }
   ],
   "source": [
    "train.head()"
   ]
  },
  {
   "cell_type": "markdown",
   "metadata": {},
   "source": [
    "#### With just this glimpse, you can start to fill out your list of assumptions, hypotheses, and questions. Some of mine are:\n",
    "- Question: What is the span of dates we are provided?\n",
    "- Question: How many distinct store_nbr values are there?\n",
    "- Question: How many distinct item_nbr values are there?\n",
    "- Hypothesis: unit_sales are always positive\n",
    "- Hypothesis: onpromotion is always either True or False\n",
    "- Hypothesis: city and state are always going to be Quito and Pichincha\n",
    "- Hypothesis: cluster is always 5\n",
    "- Question: What does cluster mean and is it important to know?\n",
    "- Question: How many records does the data contain?\n",
    "- Question: What other data files are available?"
   ]
  },
  {
   "cell_type": "code",
   "execution_count": 5,
   "metadata": {},
   "outputs": [
    {
     "data": {
      "text/html": [
       "<div>\n",
       "<style scoped>\n",
       "    .dataframe tbody tr th:only-of-type {\n",
       "        vertical-align: middle;\n",
       "    }\n",
       "\n",
       "    .dataframe tbody tr th {\n",
       "        vertical-align: top;\n",
       "    }\n",
       "\n",
       "    .dataframe thead th {\n",
       "        text-align: right;\n",
       "    }\n",
       "</style>\n",
       "<table border=\"1\" class=\"dataframe\">\n",
       "  <thead>\n",
       "    <tr style=\"text-align: right;\">\n",
       "      <th></th>\n",
       "      <th>id</th>\n",
       "      <th>store_nbr</th>\n",
       "      <th>item_nbr</th>\n",
       "      <th>unit_sales</th>\n",
       "      <th>cluster</th>\n",
       "    </tr>\n",
       "  </thead>\n",
       "  <tbody>\n",
       "    <tr>\n",
       "      <th>count</th>\n",
       "      <td>5.877318e+06</td>\n",
       "      <td>5.877318e+06</td>\n",
       "      <td>5.877318e+06</td>\n",
       "      <td>5.877318e+06</td>\n",
       "      <td>5.877318e+06</td>\n",
       "    </tr>\n",
       "    <tr>\n",
       "      <th>mean</th>\n",
       "      <td>1.066164e+08</td>\n",
       "      <td>4.646462e+01</td>\n",
       "      <td>1.166542e+06</td>\n",
       "      <td>1.384925e+01</td>\n",
       "      <td>1.143455e+01</td>\n",
       "    </tr>\n",
       "    <tr>\n",
       "      <th>std</th>\n",
       "      <td>1.081675e+07</td>\n",
       "      <td>1.713651e+00</td>\n",
       "      <td>5.726114e+05</td>\n",
       "      <td>3.087377e+01</td>\n",
       "      <td>3.229972e+00</td>\n",
       "    </tr>\n",
       "    <tr>\n",
       "      <th>min</th>\n",
       "      <td>8.821147e+07</td>\n",
       "      <td>4.400000e+01</td>\n",
       "      <td>9.699500e+04</td>\n",
       "      <td>-2.900000e+02</td>\n",
       "      <td>5.000000e+00</td>\n",
       "    </tr>\n",
       "    <tr>\n",
       "      <th>25%</th>\n",
       "      <td>9.720613e+07</td>\n",
       "      <td>4.500000e+01</td>\n",
       "      <td>7.243600e+05</td>\n",
       "      <td>3.000000e+00</td>\n",
       "      <td>1.100000e+01</td>\n",
       "    </tr>\n",
       "    <tr>\n",
       "      <th>50%</th>\n",
       "      <td>1.064948e+08</td>\n",
       "      <td>4.600000e+01</td>\n",
       "      <td>1.228319e+06</td>\n",
       "      <td>7.000000e+00</td>\n",
       "      <td>1.100000e+01</td>\n",
       "    </tr>\n",
       "    <tr>\n",
       "      <th>75%</th>\n",
       "      <td>1.159730e+08</td>\n",
       "      <td>4.800000e+01</td>\n",
       "      <td>1.502392e+06</td>\n",
       "      <td>1.400000e+01</td>\n",
       "      <td>1.400000e+01</td>\n",
       "    </tr>\n",
       "    <tr>\n",
       "      <th>max</th>\n",
       "      <td>1.254869e+08</td>\n",
       "      <td>4.900000e+01</td>\n",
       "      <td>2.127114e+06</td>\n",
       "      <td>6.932000e+03</td>\n",
       "      <td>1.400000e+01</td>\n",
       "    </tr>\n",
       "  </tbody>\n",
       "</table>\n",
       "</div>"
      ],
      "text/plain": [
       "                 id     store_nbr      item_nbr    unit_sales       cluster\n",
       "count  5.877318e+06  5.877318e+06  5.877318e+06  5.877318e+06  5.877318e+06\n",
       "mean   1.066164e+08  4.646462e+01  1.166542e+06  1.384925e+01  1.143455e+01\n",
       "std    1.081675e+07  1.713651e+00  5.726114e+05  3.087377e+01  3.229972e+00\n",
       "min    8.821147e+07  4.400000e+01  9.699500e+04 -2.900000e+02  5.000000e+00\n",
       "25%    9.720613e+07  4.500000e+01  7.243600e+05  3.000000e+00  1.100000e+01\n",
       "50%    1.064948e+08  4.600000e+01  1.228319e+06  7.000000e+00  1.100000e+01\n",
       "75%    1.159730e+08  4.800000e+01  1.502392e+06  1.400000e+01  1.400000e+01\n",
       "max    1.254869e+08  4.900000e+01  2.127114e+06  6.932000e+03  1.400000e+01"
      ]
     },
     "execution_count": 5,
     "metadata": {},
     "output_type": "execute_result"
    }
   ],
   "source": [
    "train.describe()"
   ]
  },
  {
   "cell_type": "code",
   "execution_count": 8,
   "metadata": {},
   "outputs": [],
   "source": [
    "data = train"
   ]
  },
  {
   "cell_type": "markdown",
   "metadata": {},
   "source": [
    "### Here's some examples of how to address those first questions"
   ]
  },
  {
   "cell_type": "code",
   "execution_count": 7,
   "metadata": {},
   "outputs": [
    {
     "name": "stdout",
     "output_type": "stream",
     "text": [
      "2016-08-16\n",
      "2017-08-15\n"
     ]
    }
   ],
   "source": [
    "# Access an entire dataframe column like you would\n",
    "# the value in a python dictionary:\n",
    "# (The returned object has similar pandas built-in \n",
    "# functions, like 'head' and 'max')\n",
    "print(train['date'].min())\n",
    "print(train['date'].max())"
   ]
  },
  {
   "cell_type": "code",
   "execution_count": 9,
   "metadata": {},
   "outputs": [
    {
     "data": {
      "text/plain": [
       "array([44, 45, 46, 47, 48, 49])"
      ]
     },
     "execution_count": 9,
     "metadata": {},
     "output_type": "execute_result"
    }
   ],
   "source": [
    "# Dataframe columns also have a 'unique' method,\n",
    "# which can answer several of our questions from above\n",
    "data['store_nbr'].unique()"
   ]
  },
  {
   "cell_type": "code",
   "execution_count": 10,
   "metadata": {},
   "outputs": [
    {
     "name": "stdout",
     "output_type": "stream",
     "text": [
      "[ 103520  103665  105574 ... 2011468 2011448 2123839]\n",
      "There are too many item numbers to display, so let's just count them for now:\n",
      "\n",
      "3717 different item_nbr values in our data\n"
     ]
    }
   ],
   "source": [
    "print(data['item_nbr'].unique())\n",
    "print(\"There are too many item numbers to display, so let's just count them for now:\")\n",
    "print(\"\\n{} different item_nbr values in our data\"\n",
    "          .format(len(data['item_nbr'].unique())))"
   ]
  },
  {
   "cell_type": "markdown",
   "metadata": {},
   "source": [
    "#### It might be helpful to know the 'shape' of our data. We could count by hand (for now) the columns, but how many rows do we have altogether?"
   ]
  },
  {
   "cell_type": "code",
   "execution_count": 11,
   "metadata": {},
   "outputs": [
    {
     "name": "stdout",
     "output_type": "stream",
     "text": [
      "(5877318, 9)\n",
      "There are 5877318 rows and 9 columns in our data\n"
     ]
    }
   ],
   "source": [
    "print(data.shape)\n",
    "print(\"There are {} rows and {} columns in our data\".format(data.shape[0], data.shape[1]))"
   ]
  },
  {
   "cell_type": "code",
   "execution_count": 13,
   "metadata": {},
   "outputs": [
    {
     "name": "stdout",
     "output_type": "stream",
     "text": [
      "[ True False]\n"
     ]
    }
   ],
   "source": [
    "print(data['onpromotion'].unique())"
   ]
  },
  {
   "cell_type": "markdown",
   "metadata": {},
   "source": [
    "#### Moving along to answer our intial questions... Let's have a look at unit_sales. Keep in mind that unit sales is the variable we want to predict with our science.\n",
    "\n",
    "Each row in our data is essentially telling us a `unit_sales` number for a given `item_nbr` at a given `store_nbr` on a given `date`. That is, \"how many of an item was sold at a store on a day\"."
   ]
  },
  {
   "cell_type": "code",
   "execution_count": 14,
   "metadata": {},
   "outputs": [
    {
     "data": {
      "text/plain": [
       "Index(['id', 'date', 'store_nbr', 'item_nbr', 'unit_sales', 'onpromotion',\n",
       "       'city', 'state', 'cluster'],\n",
       "      dtype='object')"
      ]
     },
     "execution_count": 14,
     "metadata": {},
     "output_type": "execute_result"
    }
   ],
   "source": [
    "train.columns"
   ]
  },
  {
   "cell_type": "code",
   "execution_count": 15,
   "metadata": {},
   "outputs": [
    {
     "name": "stdout",
     "output_type": "stream",
     "text": [
      "[ 5 11 14]\n"
     ]
    }
   ],
   "source": [
    "print(data['cluster'].unique())"
   ]
  },
  {
   "cell_type": "code",
   "execution_count": 16,
   "metadata": {},
   "outputs": [
    {
     "name": "stdout",
     "output_type": "stream",
     "text": [
      "['Pichincha']\n"
     ]
    }
   ],
   "source": [
    "print(data['state'].unique())"
   ]
  },
  {
   "cell_type": "code",
   "execution_count": 17,
   "metadata": {},
   "outputs": [],
   "source": [
    "stores = data['store_nbr'].unique()"
   ]
  },
  {
   "cell_type": "code",
   "execution_count": 44,
   "metadata": {},
   "outputs": [],
   "source": [
    "data.index = pd.to_datetime(data.date)"
   ]
  },
  {
   "cell_type": "code",
   "execution_count": 62,
   "metadata": {},
   "outputs": [],
   "source": [
    "import IPython.display\n",
    "import matplotlib.pyplot as plt"
   ]
  },
  {
   "cell_type": "code",
   "execution_count": 69,
   "metadata": {},
   "outputs": [
    {
     "name": "stdout",
     "output_type": "stream",
     "text": [
      "store 44\n",
      "count    1.014154e+06\n",
      "mean     1.677606e+01\n",
      "std      3.737943e+01\n",
      "min     -1.870000e+02\n",
      "25%      3.000000e+00\n",
      "50%      8.000000e+00\n",
      "75%      1.700000e+01\n",
      "max      3.556000e+03\n",
      "Name: unit_sales, dtype: float64\n",
      "store 45\n",
      "count    1.006279e+06\n",
      "mean     1.530840e+01\n",
      "std      3.257640e+01\n",
      "min     -2.000000e+02\n",
      "25%      3.000000e+00\n",
      "50%      8.000000e+00\n",
      "75%      1.600000e+01\n",
      "max      4.023000e+03\n",
      "Name: unit_sales, dtype: float64\n",
      "store 46\n",
      "count    964234.000000\n",
      "mean         11.885464\n",
      "std          29.754508\n",
      "min        -290.000000\n",
      "25%           3.000000\n",
      "50%           6.000000\n",
      "75%          12.000000\n",
      "max        5355.000000\n",
      "Name: unit_sales, dtype: float64\n",
      "store 47\n",
      "count    997231.000000\n",
      "mean         14.463301\n",
      "std          31.380441\n",
      "min        -110.000000\n",
      "25%           3.000000\n",
      "50%           7.000000\n",
      "75%          15.000000\n",
      "max        6932.000000\n",
      "Name: unit_sales, dtype: float64\n",
      "store 48\n",
      "count    918163.000000\n",
      "mean         10.414309\n",
      "std          23.208984\n",
      "min        -175.000000\n",
      "25%           2.000000\n",
      "50%           5.000000\n",
      "75%          11.000000\n",
      "max        3544.038000\n",
      "Name: unit_sales, dtype: float64\n",
      "store 49\n",
      "count    977257.000000\n",
      "mean         13.847720\n",
      "std          27.911212\n",
      "min        -274.000000\n",
      "25%           3.000000\n",
      "50%           7.000000\n",
      "75%          14.844000\n",
      "max        2518.718000\n",
      "Name: unit_sales, dtype: float64\n"
     ]
    },
    {
     "data": {
      "image/png": "[encoded data removed]",
      "text/plain": [
       "<Figure size 432x288 with 1 Axes>"
      ]
     },
     "metadata": {
      "needs_background": "light"
     },
     "output_type": "display_data"
    }
   ],
   "source": [
    "p = None\n",
    "for store in stores:\n",
    "    filt = data['store_nbr']==store\n",
    "    s = data[filt]\n",
    "    field = 'unit_sales'\n",
    "    print(\"store\", store)\n",
    "    print(s[field].describe())\n",
    "    #x = s[s.unit_sales < 0]\n",
    "    #print(s.head)\n",
    "    #p = s[s.unit_sales < 0].unit_sales.resample('W').median().plot(x='index',y='unit_sales')\n",
    "    p = s[s.unit_sales < 0].unit_sales.plot(x='index',y='unit_sales')\n",
    "    #p = s[s.unit_sales < 0].unit_sales.median().plot(x='index',y='unit_sales')\n",
    "    \n",
    "plt.show()"
   ]
  },
  {
   "cell_type": "code",
   "execution_count": 60,
   "metadata": {},
   "outputs": [
    {
     "data": {
      "text/plain": [
       "<matplotlib.axes._subplots.AxesSubplot at 0x7f9754f3a898>"
      ]
     },
     "metadata": {},
     "output_type": "display_data"
    }
   ],
   "source": []
  },
  {
   "cell_type": "code",
   "execution_count": null,
   "metadata": {},
   "outputs": [],
   "source": []
  }
 ],
 "metadata": {
  "kernelspec": {
   "display_name": "Python 3",
   "language": "python",
   "name": "python3"
  },
  "language_info": {
   "codemirror_mode": {
    "name": "ipython",
    "version": 3
   },
   "file_extension": ".py",
   "mimetype": "text/x-python",
   "name": "python",
   "nbconvert_exporter": "python",
   "pygments_lexer": "ipython3",
   "version": "3.7.3"
  }
 },
 "nbformat": 4,
 "nbformat_minor": 2
}
